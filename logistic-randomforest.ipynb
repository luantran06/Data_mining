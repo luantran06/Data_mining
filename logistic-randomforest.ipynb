{
 "cells": [
  {
   "cell_type": "code",
   "execution_count": 1,
   "id": "48152fa2",
   "metadata": {
    "_cell_guid": "b1076dfc-b9ad-4769-8c92-a6c4dae69d19",
    "_uuid": "8f2839f25d086af736a60e9eeb907d3b93b6e0e5",
    "execution": {
     "iopub.execute_input": "2023-03-06T15:08:16.185193Z",
     "iopub.status.busy": "2023-03-06T15:08:16.184395Z",
     "iopub.status.idle": "2023-03-06T15:08:26.681443Z",
     "shell.execute_reply": "2023-03-06T15:08:26.680414Z"
    },
    "papermill": {
     "duration": 10.515975,
     "end_time": "2023-03-06T15:08:26.684336",
     "exception": false,
     "start_time": "2023-03-06T15:08:16.168361",
     "status": "completed"
    },
    "tags": []
   },
   "outputs": [],
   "source": [
    "import os\n",
    "import gc\n",
    "\n",
    "import jo_wilder\n",
    "\n",
    "import numpy as np\n",
    "import pandas as pd\n",
    "\n",
    "from sklearn.linear_model import LogisticRegression\n",
    "from sklearn.model_selection import KFold, GroupKFold, GridSearchCV\n",
    "from sklearn.ensemble import RandomForestClassifier\n",
    "from sklearn.metrics import f1_score\n",
    "\n",
    "from xgboost import XGBClassifier\n",
    "\n",
    "from tensorflow import keras\n",
    "import tensorflow as tf\n",
    "\n",
    "import matplotlib.pyplot as plt\n",
    "import seaborn as sns\n",
    "from colorama import init as colorama_init\n",
    "from colorama import Fore\n",
    "from colorama import Style\n",
    "pd.set_option(\"display.max_columns\", None)\n",
    "pd.set_option(\"display.max_rows\", 400)"
   ]
  },
  {
   "cell_type": "code",
   "execution_count": 2,
   "id": "6a5c67e9",
   "metadata": {
    "execution": {
     "iopub.execute_input": "2023-03-06T15:08:26.774040Z",
     "iopub.status.busy": "2023-03-06T15:08:26.772983Z",
     "iopub.status.idle": "2023-03-06T15:08:26.786899Z",
     "shell.execute_reply": "2023-03-06T15:08:26.786003Z"
    },
    "papermill": {
     "duration": 0.032257,
     "end_time": "2023-03-06T15:08:26.789456",
     "exception": false,
     "start_time": "2023-03-06T15:08:26.757199",
     "status": "completed"
    },
    "tags": []
   },
   "outputs": [],
   "source": [
    "#Reduce Memory Usage\n",
    "def reduce_memory_usage(df):\n",
    "    '''\n",
    "    This function is used to reduce the memory size by adapting the used data types\n",
    "    param :\n",
    "    df: Pandas DataFrame \n",
    "    '''\n",
    "    start_mem = df.memory_usage().sum() / 1024**2\n",
    "    print('Memory usage of dataframe is {:.2f} MB'.format(start_mem))\n",
    "    \n",
    "    for col in df.columns:\n",
    "        col_type = df[col].dtype.name\n",
    "        if ((col_type != 'datetime64[ns]') & (col_type != 'category')):\n",
    "            if (col_type != 'object'):\n",
    "                c_min = df[col].min()\n",
    "                c_max = df[col].max()\n",
    "\n",
    "                if str(col_type)[:3] == 'int':\n",
    "                    if c_min > np.iinfo(np.int8).min and c_max < np.iinfo(np.int8).max:\n",
    "                        df[col] = df[col].astype(np.int8)\n",
    "                    elif c_min > np.iinfo(np.int16).min and c_max < np.iinfo(np.int16).max:\n",
    "                        df[col] = df[col].astype(np.int16)\n",
    "                    elif c_min > np.iinfo(np.int32).min and c_max < np.iinfo(np.int32).max:\n",
    "                        df[col] = df[col].astype(np.int32)\n",
    "                    elif c_min > np.iinfo(np.int64).min and c_max < np.iinfo(np.int64).max:\n",
    "                        df[col] = df[col].astype(np.int64)\n",
    "\n",
    "                else:\n",
    "                    if c_min > np.finfo(np.float16).min and c_max < np.finfo(np.float16).max:\n",
    "                        df[col] = df[col].astype(np.float16)\n",
    "                    elif c_min > np.finfo(np.float32).min and c_max < np.finfo(np.float32).max:\n",
    "                        df[col] = df[col].astype(np.float32)\n",
    "                    else:\n",
    "                        pass\n",
    "            else:\n",
    "                df[col] = df[col].astype('category')\n",
    "    mem_usg = df.memory_usage().sum() / 1024**2 \n",
    "    print(\"Memory usage became: \",mem_usg,\" MB\")\n",
    "    \n",
    "    return df"
   ]
  },
  {
   "cell_type": "code",
   "execution_count": 3,
   "id": "1b36a0ba",
   "metadata": {
    "execution": {
     "iopub.execute_input": "2023-03-06T15:08:26.848890Z",
     "iopub.status.busy": "2023-03-06T15:08:26.848184Z",
     "iopub.status.idle": "2023-03-06T15:08:26.856115Z",
     "shell.execute_reply": "2023-03-06T15:08:26.854987Z"
    },
    "papermill": {
     "duration": 0.026348,
     "end_time": "2023-03-06T15:08:26.858728",
     "exception": false,
     "start_time": "2023-03-06T15:08:26.832380",
     "status": "completed"
    },
    "tags": []
   },
   "outputs": [],
   "source": [
    "def feature_engineer(train):\n",
    "    '''\n",
    "    This function preprocess the data \"train\" : nunique for categorical variables,\n",
    "    and mean\\std for numerical variables\n",
    "    param:\n",
    "    tarin : Pandas DataFrame\n",
    "    '''\n",
    "    dfs = []\n",
    "    for c in CATS:\n",
    "        tmp = train.groupby(['session_id','level_group'])[c].agg('nunique')\n",
    "        tmp.name = tmp.name + '_nunique'\n",
    "        dfs.append(tmp)\n",
    "    for c in NUMS:\n",
    "        tmp = train.groupby(['session_id','level_group'])[c].agg('mean')\n",
    "        dfs.append(tmp)\n",
    "    for c in NUMS:\n",
    "        tmp = train.groupby(['session_id','level_group'])[c].agg('std')\n",
    "        tmp.name = tmp.name + '_std'\n",
    "        dfs.append(tmp)\n",
    "    df = pd.concat(dfs,axis=1)\n",
    "    df = df.fillna(-1)\n",
    "    df = df.reset_index()\n",
    "    df = df.set_index('session_id')\n",
    "    return df"
   ]
  },
  {
   "cell_type": "code",
   "execution_count": 4,
   "id": "f4c846f6",
   "metadata": {
    "execution": {
     "iopub.execute_input": "2023-03-06T15:08:26.947705Z",
     "iopub.status.busy": "2023-03-06T15:08:26.946912Z",
     "iopub.status.idle": "2023-03-06T15:09:34.830380Z",
     "shell.execute_reply": "2023-03-06T15:09:34.829360Z"
    },
    "papermill": {
     "duration": 67.913835,
     "end_time": "2023-03-06T15:09:34.844942",
     "exception": false,
     "start_time": "2023-03-06T15:08:26.931107",
     "status": "completed"
    },
    "tags": []
   },
   "outputs": [
    {
     "name": "stdout",
     "output_type": "stream",
     "text": [
      "(13174211, 20)\n",
      "CPU times: user 35.2 s, sys: 5.12 s, total: 40.3 s\n",
      "Wall time: 1min 7s\n"
     ]
    },
    {
     "data": {
      "text/html": [
       "<div>\n",
       "<style scoped>\n",
       "    .dataframe tbody tr th:only-of-type {\n",
       "        vertical-align: middle;\n",
       "    }\n",
       "\n",
       "    .dataframe tbody tr th {\n",
       "        vertical-align: top;\n",
       "    }\n",
       "\n",
       "    .dataframe thead th {\n",
       "        text-align: right;\n",
       "    }\n",
       "</style>\n",
       "<table border=\"1\" class=\"dataframe\">\n",
       "  <thead>\n",
       "    <tr style=\"text-align: right;\">\n",
       "      <th></th>\n",
       "      <th>session_id</th>\n",
       "      <th>index</th>\n",
       "      <th>elapsed_time</th>\n",
       "      <th>event_name</th>\n",
       "      <th>name</th>\n",
       "      <th>level</th>\n",
       "      <th>page</th>\n",
       "      <th>room_coor_x</th>\n",
       "      <th>room_coor_y</th>\n",
       "      <th>screen_coor_x</th>\n",
       "      <th>screen_coor_y</th>\n",
       "      <th>hover_duration</th>\n",
       "      <th>text</th>\n",
       "      <th>fqid</th>\n",
       "      <th>room_fqid</th>\n",
       "      <th>text_fqid</th>\n",
       "      <th>fullscreen</th>\n",
       "      <th>hq</th>\n",
       "      <th>music</th>\n",
       "      <th>level_group</th>\n",
       "    </tr>\n",
       "  </thead>\n",
       "  <tbody>\n",
       "    <tr>\n",
       "      <th>0</th>\n",
       "      <td>20090312431273200</td>\n",
       "      <td>0</td>\n",
       "      <td>0</td>\n",
       "      <td>cutscene_click</td>\n",
       "      <td>basic</td>\n",
       "      <td>0</td>\n",
       "      <td>NaN</td>\n",
       "      <td>-413.991405</td>\n",
       "      <td>-159.314686</td>\n",
       "      <td>380.0</td>\n",
       "      <td>494.0</td>\n",
       "      <td>NaN</td>\n",
       "      <td>undefined</td>\n",
       "      <td>intro</td>\n",
       "      <td>tunic.historicalsociety.closet</td>\n",
       "      <td>tunic.historicalsociety.closet.intro</td>\n",
       "      <td>NaN</td>\n",
       "      <td>NaN</td>\n",
       "      <td>NaN</td>\n",
       "      <td>0-4</td>\n",
       "    </tr>\n",
       "    <tr>\n",
       "      <th>1</th>\n",
       "      <td>20090312431273200</td>\n",
       "      <td>1</td>\n",
       "      <td>1323</td>\n",
       "      <td>person_click</td>\n",
       "      <td>basic</td>\n",
       "      <td>0</td>\n",
       "      <td>NaN</td>\n",
       "      <td>-413.991405</td>\n",
       "      <td>-159.314686</td>\n",
       "      <td>380.0</td>\n",
       "      <td>494.0</td>\n",
       "      <td>NaN</td>\n",
       "      <td>Whatcha doing over there, Jo?</td>\n",
       "      <td>gramps</td>\n",
       "      <td>tunic.historicalsociety.closet</td>\n",
       "      <td>tunic.historicalsociety.closet.gramps.intro_0_...</td>\n",
       "      <td>NaN</td>\n",
       "      <td>NaN</td>\n",
       "      <td>NaN</td>\n",
       "      <td>0-4</td>\n",
       "    </tr>\n",
       "    <tr>\n",
       "      <th>2</th>\n",
       "      <td>20090312431273200</td>\n",
       "      <td>2</td>\n",
       "      <td>831</td>\n",
       "      <td>person_click</td>\n",
       "      <td>basic</td>\n",
       "      <td>0</td>\n",
       "      <td>NaN</td>\n",
       "      <td>-413.991405</td>\n",
       "      <td>-159.314686</td>\n",
       "      <td>380.0</td>\n",
       "      <td>494.0</td>\n",
       "      <td>NaN</td>\n",
       "      <td>Just talking to Teddy.</td>\n",
       "      <td>gramps</td>\n",
       "      <td>tunic.historicalsociety.closet</td>\n",
       "      <td>tunic.historicalsociety.closet.gramps.intro_0_...</td>\n",
       "      <td>NaN</td>\n",
       "      <td>NaN</td>\n",
       "      <td>NaN</td>\n",
       "      <td>0-4</td>\n",
       "    </tr>\n",
       "    <tr>\n",
       "      <th>3</th>\n",
       "      <td>20090312431273200</td>\n",
       "      <td>3</td>\n",
       "      <td>1147</td>\n",
       "      <td>person_click</td>\n",
       "      <td>basic</td>\n",
       "      <td>0</td>\n",
       "      <td>NaN</td>\n",
       "      <td>-413.991405</td>\n",
       "      <td>-159.314686</td>\n",
       "      <td>380.0</td>\n",
       "      <td>494.0</td>\n",
       "      <td>NaN</td>\n",
       "      <td>I gotta run to my meeting!</td>\n",
       "      <td>gramps</td>\n",
       "      <td>tunic.historicalsociety.closet</td>\n",
       "      <td>tunic.historicalsociety.closet.gramps.intro_0_...</td>\n",
       "      <td>NaN</td>\n",
       "      <td>NaN</td>\n",
       "      <td>NaN</td>\n",
       "      <td>0-4</td>\n",
       "    </tr>\n",
       "    <tr>\n",
       "      <th>4</th>\n",
       "      <td>20090312431273200</td>\n",
       "      <td>4</td>\n",
       "      <td>1863</td>\n",
       "      <td>person_click</td>\n",
       "      <td>basic</td>\n",
       "      <td>0</td>\n",
       "      <td>NaN</td>\n",
       "      <td>-412.991405</td>\n",
       "      <td>-159.314686</td>\n",
       "      <td>381.0</td>\n",
       "      <td>494.0</td>\n",
       "      <td>NaN</td>\n",
       "      <td>Can I come, Gramps?</td>\n",
       "      <td>gramps</td>\n",
       "      <td>tunic.historicalsociety.closet</td>\n",
       "      <td>tunic.historicalsociety.closet.gramps.intro_0_...</td>\n",
       "      <td>NaN</td>\n",
       "      <td>NaN</td>\n",
       "      <td>NaN</td>\n",
       "      <td>0-4</td>\n",
       "    </tr>\n",
       "  </tbody>\n",
       "</table>\n",
       "</div>"
      ],
      "text/plain": [
       "          session_id  index  elapsed_time      event_name   name  level  page  \\\n",
       "0  20090312431273200      0             0  cutscene_click  basic      0   NaN   \n",
       "1  20090312431273200      1          1323    person_click  basic      0   NaN   \n",
       "2  20090312431273200      2           831    person_click  basic      0   NaN   \n",
       "3  20090312431273200      3          1147    person_click  basic      0   NaN   \n",
       "4  20090312431273200      4          1863    person_click  basic      0   NaN   \n",
       "\n",
       "   room_coor_x  room_coor_y  screen_coor_x  screen_coor_y  hover_duration  \\\n",
       "0  -413.991405  -159.314686          380.0          494.0             NaN   \n",
       "1  -413.991405  -159.314686          380.0          494.0             NaN   \n",
       "2  -413.991405  -159.314686          380.0          494.0             NaN   \n",
       "3  -413.991405  -159.314686          380.0          494.0             NaN   \n",
       "4  -412.991405  -159.314686          381.0          494.0             NaN   \n",
       "\n",
       "                            text    fqid                       room_fqid  \\\n",
       "0                      undefined   intro  tunic.historicalsociety.closet   \n",
       "1  Whatcha doing over there, Jo?  gramps  tunic.historicalsociety.closet   \n",
       "2         Just talking to Teddy.  gramps  tunic.historicalsociety.closet   \n",
       "3     I gotta run to my meeting!  gramps  tunic.historicalsociety.closet   \n",
       "4            Can I come, Gramps?  gramps  tunic.historicalsociety.closet   \n",
       "\n",
       "                                           text_fqid  fullscreen  hq  music  \\\n",
       "0               tunic.historicalsociety.closet.intro         NaN NaN    NaN   \n",
       "1  tunic.historicalsociety.closet.gramps.intro_0_...         NaN NaN    NaN   \n",
       "2  tunic.historicalsociety.closet.gramps.intro_0_...         NaN NaN    NaN   \n",
       "3  tunic.historicalsociety.closet.gramps.intro_0_...         NaN NaN    NaN   \n",
       "4  tunic.historicalsociety.closet.gramps.intro_0_...         NaN NaN    NaN   \n",
       "\n",
       "  level_group  \n",
       "0         0-4  \n",
       "1         0-4  \n",
       "2         0-4  \n",
       "3         0-4  \n",
       "4         0-4  "
      ]
     },
     "execution_count": 4,
     "metadata": {},
     "output_type": "execute_result"
    }
   ],
   "source": [
    "%%time\n",
    "train_path = '/kaggle/input/predict-student-performance-from-game-play/train.csv'\n",
    "train = pd.read_csv(train_path)\n",
    "print( train.shape )\n",
    "train.head()"
   ]
  },
  {
   "cell_type": "markdown",
   "id": "96f7615b",
   "metadata": {
    "papermill": {
     "duration": 0.014829,
     "end_time": "2023-03-06T15:09:34.875342",
     "exception": false,
     "start_time": "2023-03-06T15:09:34.860513",
     "status": "completed"
    },
    "tags": []
   },
   "source": [
    "Data is loaded"
   ]
  },
  {
   "cell_type": "code",
   "execution_count": 5,
   "id": "f0978d30",
   "metadata": {
    "execution": {
     "iopub.execute_input": "2023-03-06T15:09:34.908799Z",
     "iopub.status.busy": "2023-03-06T15:09:34.908045Z",
     "iopub.status.idle": "2023-03-06T15:09:35.533236Z",
     "shell.execute_reply": "2023-03-06T15:09:35.532254Z"
    },
    "papermill": {
     "duration": 0.644806,
     "end_time": "2023-03-06T15:09:35.535839",
     "exception": false,
     "start_time": "2023-03-06T15:09:34.891033",
     "status": "completed"
    },
    "tags": []
   },
   "outputs": [
    {
     "name": "stdout",
     "output_type": "stream",
     "text": [
      "(212022, 4)\n",
      "CPU times: user 523 ms, sys: 18.5 ms, total: 541 ms\n",
      "Wall time: 611 ms\n"
     ]
    },
    {
     "data": {
      "text/html": [
       "<div>\n",
       "<style scoped>\n",
       "    .dataframe tbody tr th:only-of-type {\n",
       "        vertical-align: middle;\n",
       "    }\n",
       "\n",
       "    .dataframe tbody tr th {\n",
       "        vertical-align: top;\n",
       "    }\n",
       "\n",
       "    .dataframe thead th {\n",
       "        text-align: right;\n",
       "    }\n",
       "</style>\n",
       "<table border=\"1\" class=\"dataframe\">\n",
       "  <thead>\n",
       "    <tr style=\"text-align: right;\">\n",
       "      <th></th>\n",
       "      <th>session_id</th>\n",
       "      <th>correct</th>\n",
       "      <th>session</th>\n",
       "      <th>q</th>\n",
       "    </tr>\n",
       "  </thead>\n",
       "  <tbody>\n",
       "    <tr>\n",
       "      <th>0</th>\n",
       "      <td>20090312431273200_q1</td>\n",
       "      <td>1</td>\n",
       "      <td>20090312431273200</td>\n",
       "      <td>1</td>\n",
       "    </tr>\n",
       "    <tr>\n",
       "      <th>1</th>\n",
       "      <td>20090312433251036_q1</td>\n",
       "      <td>0</td>\n",
       "      <td>20090312433251036</td>\n",
       "      <td>1</td>\n",
       "    </tr>\n",
       "    <tr>\n",
       "      <th>2</th>\n",
       "      <td>20090314121766812_q1</td>\n",
       "      <td>1</td>\n",
       "      <td>20090314121766812</td>\n",
       "      <td>1</td>\n",
       "    </tr>\n",
       "    <tr>\n",
       "      <th>3</th>\n",
       "      <td>20090314363702160_q1</td>\n",
       "      <td>1</td>\n",
       "      <td>20090314363702160</td>\n",
       "      <td>1</td>\n",
       "    </tr>\n",
       "    <tr>\n",
       "      <th>4</th>\n",
       "      <td>20090314441803444_q1</td>\n",
       "      <td>1</td>\n",
       "      <td>20090314441803444</td>\n",
       "      <td>1</td>\n",
       "    </tr>\n",
       "  </tbody>\n",
       "</table>\n",
       "</div>"
      ],
      "text/plain": [
       "             session_id  correct            session  q\n",
       "0  20090312431273200_q1        1  20090312431273200  1\n",
       "1  20090312433251036_q1        0  20090312433251036  1\n",
       "2  20090314121766812_q1        1  20090314121766812  1\n",
       "3  20090314363702160_q1        1  20090314363702160  1\n",
       "4  20090314441803444_q1        1  20090314441803444  1"
      ]
     },
     "execution_count": 5,
     "metadata": {},
     "output_type": "execute_result"
    }
   ],
   "source": [
    "%%time\n",
    "train_labels_path = '/kaggle/input/predict-student-performance-from-game-play/train_labels.csv'\n",
    "targets = pd.read_csv(train_labels_path)\n",
    "targets['session'] = targets.session_id.apply(lambda x: int(x.split('_')[0]) )\n",
    "targets['q'] = targets.session_id.apply(lambda x: int(x.split('_')[-1][1:]) )\n",
    "print( targets.shape )\n",
    "targets.head()"
   ]
  },
  {
   "cell_type": "markdown",
   "id": "a8dd5fd4",
   "metadata": {
    "papermill": {
     "duration": 0.015128,
     "end_time": "2023-03-06T15:09:35.566452",
     "exception": false,
     "start_time": "2023-03-06T15:09:35.551324",
     "status": "completed"
    },
    "tags": []
   },
   "source": [
    "Targets data is loaded"
   ]
  },
  {
   "cell_type": "code",
   "execution_count": 6,
   "id": "812d93e3",
   "metadata": {
    "execution": {
     "iopub.execute_input": "2023-03-06T15:09:35.661800Z",
     "iopub.status.busy": "2023-03-06T15:09:35.660826Z",
     "iopub.status.idle": "2023-03-06T15:09:51.136276Z",
     "shell.execute_reply": "2023-03-06T15:09:51.135244Z"
    },
    "papermill": {
     "duration": 15.495834,
     "end_time": "2023-03-06T15:09:51.138981",
     "exception": false,
     "start_time": "2023-03-06T15:09:35.643147",
     "status": "completed"
    },
    "tags": []
   },
   "outputs": [
    {
     "name": "stdout",
     "output_type": "stream",
     "text": [
      "Memory usage of dataframe is 2010.23 MB\n",
      "Memory usage became:  778.9939136505127  MB\n"
     ]
    }
   ],
   "source": [
    "train = reduce_memory_usage(train)"
   ]
  },
  {
   "cell_type": "code",
   "execution_count": 7,
   "id": "2319caff",
   "metadata": {
    "execution": {
     "iopub.execute_input": "2023-03-06T15:09:51.173401Z",
     "iopub.status.busy": "2023-03-06T15:09:51.172795Z",
     "iopub.status.idle": "2023-03-06T15:09:51.504975Z",
     "shell.execute_reply": "2023-03-06T15:09:51.504051Z"
    },
    "papermill": {
     "duration": 0.353066,
     "end_time": "2023-03-06T15:09:51.507371",
     "exception": false,
     "start_time": "2023-03-06T15:09:51.154305",
     "status": "completed"
    },
    "tags": []
   },
   "outputs": [
    {
     "name": "stdout",
     "output_type": "stream",
     "text": [
      "Memory usage of dataframe is 6.47 MB\n",
      "Memory usage became:  12.511058807373047  MB\n"
     ]
    }
   ],
   "source": [
    "targets = reduce_memory_usage(targets)"
   ]
  },
  {
   "cell_type": "markdown",
   "id": "454f6a8f",
   "metadata": {
    "papermill": {
     "duration": 0.015073,
     "end_time": "2023-03-06T15:09:51.538342",
     "exception": false,
     "start_time": "2023-03-06T15:09:51.523269",
     "status": "completed"
    },
    "tags": []
   },
   "source": [
    "Data and targets RAM sizes are reduced"
   ]
  },
  {
   "cell_type": "code",
   "execution_count": 8,
   "id": "e470267e",
   "metadata": {
    "execution": {
     "iopub.execute_input": "2023-03-06T15:09:51.603015Z",
     "iopub.status.busy": "2023-03-06T15:09:51.602165Z",
     "iopub.status.idle": "2023-03-06T15:09:51.607401Z",
     "shell.execute_reply": "2023-03-06T15:09:51.606517Z"
    },
    "papermill": {
     "duration": 0.025157,
     "end_time": "2023-03-06T15:09:51.609736",
     "exception": false,
     "start_time": "2023-03-06T15:09:51.584579",
     "status": "completed"
    },
    "tags": []
   },
   "outputs": [],
   "source": [
    "CATS = ['event_name', 'name','fqid', 'room_fqid', 'text_fqid']\n",
    "NUMS = ['elapsed_time','level','page','room_coor_x', 'room_coor_y', \n",
    "        'screen_coor_x', 'screen_coor_y', 'hover_duration']"
   ]
  },
  {
   "cell_type": "code",
   "execution_count": 9,
   "id": "53333e7d",
   "metadata": {
    "execution": {
     "iopub.execute_input": "2023-03-06T15:09:51.644566Z",
     "iopub.status.busy": "2023-03-06T15:09:51.643778Z",
     "iopub.status.idle": "2023-03-06T15:10:09.202762Z",
     "shell.execute_reply": "2023-03-06T15:10:09.201829Z"
    },
    "papermill": {
     "duration": 17.5791,
     "end_time": "2023-03-06T15:10:09.204845",
     "exception": false,
     "start_time": "2023-03-06T15:09:51.625745",
     "status": "completed"
    },
    "tags": []
   },
   "outputs": [
    {
     "name": "stdout",
     "output_type": "stream",
     "text": [
      "(35337, 22)\n",
      "CPU times: user 17.5 s, sys: 0 ns, total: 17.5 s\n",
      "Wall time: 17.5 s\n"
     ]
    },
    {
     "data": {
      "text/html": [
       "<div>\n",
       "<style scoped>\n",
       "    .dataframe tbody tr th:only-of-type {\n",
       "        vertical-align: middle;\n",
       "    }\n",
       "\n",
       "    .dataframe tbody tr th {\n",
       "        vertical-align: top;\n",
       "    }\n",
       "\n",
       "    .dataframe thead th {\n",
       "        text-align: right;\n",
       "    }\n",
       "</style>\n",
       "<table border=\"1\" class=\"dataframe\">\n",
       "  <thead>\n",
       "    <tr style=\"text-align: right;\">\n",
       "      <th></th>\n",
       "      <th>level_group</th>\n",
       "      <th>event_name_nunique</th>\n",
       "      <th>name_nunique</th>\n",
       "      <th>fqid_nunique</th>\n",
       "      <th>room_fqid_nunique</th>\n",
       "      <th>text_fqid_nunique</th>\n",
       "      <th>elapsed_time</th>\n",
       "      <th>level</th>\n",
       "      <th>page</th>\n",
       "      <th>room_coor_x</th>\n",
       "      <th>room_coor_y</th>\n",
       "      <th>screen_coor_x</th>\n",
       "      <th>screen_coor_y</th>\n",
       "      <th>hover_duration</th>\n",
       "      <th>elapsed_time_std</th>\n",
       "      <th>level_std</th>\n",
       "      <th>page_std</th>\n",
       "      <th>room_coor_x_std</th>\n",
       "      <th>room_coor_y_std</th>\n",
       "      <th>screen_coor_x_std</th>\n",
       "      <th>screen_coor_y_std</th>\n",
       "      <th>hover_duration_std</th>\n",
       "    </tr>\n",
       "    <tr>\n",
       "      <th>session_id</th>\n",
       "      <th></th>\n",
       "      <th></th>\n",
       "      <th></th>\n",
       "      <th></th>\n",
       "      <th></th>\n",
       "      <th></th>\n",
       "      <th></th>\n",
       "      <th></th>\n",
       "      <th></th>\n",
       "      <th></th>\n",
       "      <th></th>\n",
       "      <th></th>\n",
       "      <th></th>\n",
       "      <th></th>\n",
       "      <th></th>\n",
       "      <th></th>\n",
       "      <th></th>\n",
       "      <th></th>\n",
       "      <th></th>\n",
       "      <th></th>\n",
       "      <th></th>\n",
       "      <th></th>\n",
       "    </tr>\n",
       "  </thead>\n",
       "  <tbody>\n",
       "    <tr>\n",
       "      <th>20090312431273200</th>\n",
       "      <td>0-4</td>\n",
       "      <td>10</td>\n",
       "      <td>3</td>\n",
       "      <td>30</td>\n",
       "      <td>7</td>\n",
       "      <td>17</td>\n",
       "      <td>8.579356e+04</td>\n",
       "      <td>1.945455</td>\n",
       "      <td>-1.000000</td>\n",
       "      <td>7.687500</td>\n",
       "      <td>-71.43750</td>\n",
       "      <td>448.50</td>\n",
       "      <td>383.00</td>\n",
       "      <td>2389.500000</td>\n",
       "      <td>49246.539458</td>\n",
       "      <td>1.230975</td>\n",
       "      <td>-1.000000</td>\n",
       "      <td>399.272451</td>\n",
       "      <td>129.295749</td>\n",
       "      <td>214.871000</td>\n",
       "      <td>104.082743</td>\n",
       "      <td>3227.370757</td>\n",
       "    </tr>\n",
       "    <tr>\n",
       "      <th>20090312431273200</th>\n",
       "      <td>13-22</td>\n",
       "      <td>10</td>\n",
       "      <td>3</td>\n",
       "      <td>49</td>\n",
       "      <td>12</td>\n",
       "      <td>35</td>\n",
       "      <td>1.040601e+06</td>\n",
       "      <td>17.402381</td>\n",
       "      <td>-1.000000</td>\n",
       "      <td>-130.375000</td>\n",
       "      <td>-162.00000</td>\n",
       "      <td>442.50</td>\n",
       "      <td>379.25</td>\n",
       "      <td>899.925903</td>\n",
       "      <td>126666.129584</td>\n",
       "      <td>2.358652</td>\n",
       "      <td>-1.000000</td>\n",
       "      <td>622.081128</td>\n",
       "      <td>230.373785</td>\n",
       "      <td>240.280218</td>\n",
       "      <td>99.067861</td>\n",
       "      <td>1305.088265</td>\n",
       "    </tr>\n",
       "    <tr>\n",
       "      <th>20090312431273200</th>\n",
       "      <td>5-12</td>\n",
       "      <td>10</td>\n",
       "      <td>3</td>\n",
       "      <td>39</td>\n",
       "      <td>11</td>\n",
       "      <td>24</td>\n",
       "      <td>3.572052e+05</td>\n",
       "      <td>8.054054</td>\n",
       "      <td>-1.000000</td>\n",
       "      <td>14.304688</td>\n",
       "      <td>-57.28125</td>\n",
       "      <td>452.00</td>\n",
       "      <td>378.75</td>\n",
       "      <td>969.333313</td>\n",
       "      <td>80175.676658</td>\n",
       "      <td>2.096919</td>\n",
       "      <td>-1.000000</td>\n",
       "      <td>357.219911</td>\n",
       "      <td>137.409158</td>\n",
       "      <td>203.268560</td>\n",
       "      <td>120.255453</td>\n",
       "      <td>1316.408315</td>\n",
       "    </tr>\n",
       "    <tr>\n",
       "      <th>20090312433251036</th>\n",
       "      <td>0-4</td>\n",
       "      <td>11</td>\n",
       "      <td>4</td>\n",
       "      <td>22</td>\n",
       "      <td>6</td>\n",
       "      <td>11</td>\n",
       "      <td>9.763342e+04</td>\n",
       "      <td>1.870504</td>\n",
       "      <td>0.000000</td>\n",
       "      <td>-84.062500</td>\n",
       "      <td>-53.65625</td>\n",
       "      <td>358.25</td>\n",
       "      <td>370.75</td>\n",
       "      <td>1378.750000</td>\n",
       "      <td>67372.714092</td>\n",
       "      <td>1.232616</td>\n",
       "      <td>0.000000</td>\n",
       "      <td>445.973993</td>\n",
       "      <td>156.183163</td>\n",
       "      <td>252.554707</td>\n",
       "      <td>121.062929</td>\n",
       "      <td>2114.876406</td>\n",
       "    </tr>\n",
       "    <tr>\n",
       "      <th>20090312433251036</th>\n",
       "      <td>13-22</td>\n",
       "      <td>11</td>\n",
       "      <td>6</td>\n",
       "      <td>73</td>\n",
       "      <td>16</td>\n",
       "      <td>43</td>\n",
       "      <td>2.498852e+06</td>\n",
       "      <td>17.762529</td>\n",
       "      <td>5.101562</td>\n",
       "      <td>-30.750000</td>\n",
       "      <td>-142.87500</td>\n",
       "      <td>462.75</td>\n",
       "      <td>388.00</td>\n",
       "      <td>720.384949</td>\n",
       "      <td>777382.529186</td>\n",
       "      <td>1.825923</td>\n",
       "      <td>0.863075</td>\n",
       "      <td>529.564669</td>\n",
       "      <td>234.275228</td>\n",
       "      <td>259.288856</td>\n",
       "      <td>133.345693</td>\n",
       "      <td>1990.705518</td>\n",
       "    </tr>\n",
       "  </tbody>\n",
       "</table>\n",
       "</div>"
      ],
      "text/plain": [
       "                  level_group  event_name_nunique  name_nunique  fqid_nunique  \\\n",
       "session_id                                                                      \n",
       "20090312431273200         0-4                  10             3            30   \n",
       "20090312431273200       13-22                  10             3            49   \n",
       "20090312431273200        5-12                  10             3            39   \n",
       "20090312433251036         0-4                  11             4            22   \n",
       "20090312433251036       13-22                  11             6            73   \n",
       "\n",
       "                   room_fqid_nunique  text_fqid_nunique  elapsed_time  \\\n",
       "session_id                                                              \n",
       "20090312431273200                  7                 17  8.579356e+04   \n",
       "20090312431273200                 12                 35  1.040601e+06   \n",
       "20090312431273200                 11                 24  3.572052e+05   \n",
       "20090312433251036                  6                 11  9.763342e+04   \n",
       "20090312433251036                 16                 43  2.498852e+06   \n",
       "\n",
       "                       level      page  room_coor_x  room_coor_y  \\\n",
       "session_id                                                         \n",
       "20090312431273200   1.945455 -1.000000     7.687500    -71.43750   \n",
       "20090312431273200  17.402381 -1.000000  -130.375000   -162.00000   \n",
       "20090312431273200   8.054054 -1.000000    14.304688    -57.28125   \n",
       "20090312433251036   1.870504  0.000000   -84.062500    -53.65625   \n",
       "20090312433251036  17.762529  5.101562   -30.750000   -142.87500   \n",
       "\n",
       "                   screen_coor_x  screen_coor_y  hover_duration  \\\n",
       "session_id                                                        \n",
       "20090312431273200         448.50         383.00     2389.500000   \n",
       "20090312431273200         442.50         379.25      899.925903   \n",
       "20090312431273200         452.00         378.75      969.333313   \n",
       "20090312433251036         358.25         370.75     1378.750000   \n",
       "20090312433251036         462.75         388.00      720.384949   \n",
       "\n",
       "                   elapsed_time_std  level_std  page_std  room_coor_x_std  \\\n",
       "session_id                                                                  \n",
       "20090312431273200      49246.539458   1.230975 -1.000000       399.272451   \n",
       "20090312431273200     126666.129584   2.358652 -1.000000       622.081128   \n",
       "20090312431273200      80175.676658   2.096919 -1.000000       357.219911   \n",
       "20090312433251036      67372.714092   1.232616  0.000000       445.973993   \n",
       "20090312433251036     777382.529186   1.825923  0.863075       529.564669   \n",
       "\n",
       "                   room_coor_y_std  screen_coor_x_std  screen_coor_y_std  \\\n",
       "session_id                                                                 \n",
       "20090312431273200       129.295749         214.871000         104.082743   \n",
       "20090312431273200       230.373785         240.280218          99.067861   \n",
       "20090312431273200       137.409158         203.268560         120.255453   \n",
       "20090312433251036       156.183163         252.554707         121.062929   \n",
       "20090312433251036       234.275228         259.288856         133.345693   \n",
       "\n",
       "                   hover_duration_std  \n",
       "session_id                             \n",
       "20090312431273200         3227.370757  \n",
       "20090312431273200         1305.088265  \n",
       "20090312431273200         1316.408315  \n",
       "20090312433251036         2114.876406  \n",
       "20090312433251036         1990.705518  "
      ]
     },
     "execution_count": 9,
     "metadata": {},
     "output_type": "execute_result"
    }
   ],
   "source": [
    "%%time\n",
    "df = feature_engineer(train)\n",
    "print( df.shape )\n",
    "df.head()"
   ]
  },
  {
   "cell_type": "code",
   "execution_count": 10,
   "id": "7cfdb30d",
   "metadata": {
    "execution": {
     "iopub.execute_input": "2023-03-06T15:10:09.306689Z",
     "iopub.status.busy": "2023-03-06T15:10:09.305789Z",
     "iopub.status.idle": "2023-03-06T15:10:09.668685Z",
     "shell.execute_reply": "2023-03-06T15:10:09.667346Z"
    },
    "papermill": {
     "duration": 0.383015,
     "end_time": "2023-03-06T15:10:09.671423",
     "exception": false,
     "start_time": "2023-03-06T15:10:09.288408",
     "status": "completed"
    },
    "tags": []
   },
   "outputs": [
    {
     "data": {
      "image/png": "[encoded data removed]",
      "text/plain": [
       "<Figure size 1500x500 with 1 Axes>"
      ]
     },
     "metadata": {},
     "output_type": "display_data"
    }
   ],
   "source": [
    "#Groupby questions\n",
    "student_nb = targets['session'].nunique()\n",
    "pass_rate = pd.DataFrame(targets.groupby('q').agg('correct').sum()/student_nb).reset_index()\n",
    "pass_rate.columns = ['Question','Pass_Rate']\n",
    "\n",
    "#Seaborn barplot\n",
    "plt.rcParams['figure.figsize'] = (15,5)\n",
    "sns.barplot(x=\"Question\", y=\"Pass_Rate\", data=pass_rate)\n",
    "plt.title('Question difficulty', fontsize=16)\n",
    "plt.show()"
   ]
  },
  {
   "cell_type": "code",
   "execution_count": 11,
   "id": "5c01d597",
   "metadata": {
    "execution": {
     "iopub.execute_input": "2023-03-06T15:10:09.739547Z",
     "iopub.status.busy": "2023-03-06T15:10:09.738470Z",
     "iopub.status.idle": "2023-03-06T15:10:09.748951Z",
     "shell.execute_reply": "2023-03-06T15:10:09.748020Z"
    },
    "papermill": {
     "duration": 0.031243,
     "end_time": "2023-03-06T15:10:09.752107",
     "exception": false,
     "start_time": "2023-03-06T15:10:09.720864",
     "status": "completed"
    },
    "tags": []
   },
   "outputs": [
    {
     "name": "stdout",
     "output_type": "stream",
     "text": [
      "Question \u001b[32m\u001b[1m2\u001b[0m is the easiest. \u001b[32m\u001b[1m97.9%\u001b[0m of the students got it right!\n",
      "Question \u001b[32m\u001b[1m13\u001b[0m is the hardest. Only \u001b[32m\u001b[1m27.0%\u001b[0m of the students got it right!\n",
      "In average,\u001b[32m\u001b[1m70.4%\u001b[0m of the answers are correct!\n"
     ]
    }
   ],
   "source": [
    "pass_rate = pass_rate.sort_values('Pass_Rate').reset_index(drop=True)\n",
    "easiest_q = pass_rate.loc[17,'Question']\n",
    "best_pass_rate = pass_rate.loc[17,'Pass_Rate']\n",
    "hardest_q = pass_rate.loc[0,'Question']\n",
    "worst_pass_rate = pass_rate.loc[0,'Pass_Rate']\n",
    "mean_pass_rate = pass_rate['Pass_Rate'].mean()\n",
    "print (f'Question {Fore.GREEN}{Style.BRIGHT}{easiest_q}{Style.RESET_ALL} is the easiest. {Fore.GREEN}{Style.BRIGHT}{best_pass_rate*100:.1f}%{Style.RESET_ALL} of the students got it right!')\n",
    "print (f'Question {Fore.GREEN}{Style.BRIGHT}{hardest_q}{Style.RESET_ALL} is the hardest. Only {Fore.GREEN}{Style.BRIGHT}{worst_pass_rate*100:.1f}%{Style.RESET_ALL} of the students got it right!')\n",
    "print (f'In average,{Fore.GREEN}{Style.BRIGHT}{mean_pass_rate*100:.1f}%{Style.RESET_ALL} of the answers are correct!')"
   ]
  },
  {
   "cell_type": "code",
   "execution_count": 12,
   "id": "7e04ca88",
   "metadata": {
    "execution": {
     "iopub.execute_input": "2023-03-06T15:10:09.787633Z",
     "iopub.status.busy": "2023-03-06T15:10:09.786805Z",
     "iopub.status.idle": "2023-03-06T15:10:10.080399Z",
     "shell.execute_reply": "2023-03-06T15:10:10.079096Z"
    },
    "papermill": {
     "duration": 0.314123,
     "end_time": "2023-03-06T15:10:10.083162",
     "exception": false,
     "start_time": "2023-03-06T15:10:09.769039",
     "status": "completed"
    },
    "tags": []
   },
   "outputs": [
    {
     "data": {
      "image/png": "[encoded data removed]",
      "text/plain": [
       "<Figure size 1500x500 with 1 Axes>"
      ]
     },
     "metadata": {},
     "output_type": "display_data"
    }
   ],
   "source": [
    "#Groupby Student (session)\n",
    "student_performance = pd.DataFrame(targets.groupby('session').agg({'correct': 'sum'})).reset_index()\n",
    "stud_perf_distrib = pd.DataFrame(student_performance.groupby('correct').agg({'session': 'count'})).reset_index()\n",
    "stud_perf_distrib['session'] = stud_perf_distrib['session']/student_nb\n",
    "stud_perf_distrib.columns = ['Score','Density']\n",
    "\n",
    "#Seaborn barplot\n",
    "sns.barplot(x=\"Score\", y=\"Density\", data=stud_perf_distrib)\n",
    "plt.title('Student Performance Distribution', fontsize=16)\n",
    "plt.show()"
   ]
  },
  {
   "cell_type": "code",
   "execution_count": 13,
   "id": "afa91898",
   "metadata": {
    "execution": {
     "iopub.execute_input": "2023-03-06T15:10:10.221422Z",
     "iopub.status.busy": "2023-03-06T15:10:10.220554Z",
     "iopub.status.idle": "2023-03-06T15:10:10.229150Z",
     "shell.execute_reply": "2023-03-06T15:10:10.227692Z"
    },
    "papermill": {
     "duration": 0.029491,
     "end_time": "2023-03-06T15:10:10.231536",
     "exception": false,
     "start_time": "2023-03-06T15:10:10.202045",
     "status": "completed"
    },
    "tags": []
   },
   "outputs": [
    {
     "name": "stdout",
     "output_type": "stream",
     "text": [
      "We will train with 21 features\n",
      "We will train with 11779 users info\n"
     ]
    }
   ],
   "source": [
    "FEATURES = [c for c in df.columns if c != 'level_group']\n",
    "print('We will train with', len(FEATURES) ,'features')\n",
    "ALL_USERS = df.index.unique()\n",
    "print('We will train with', len(ALL_USERS) ,'users info')"
   ]
  },
  {
   "cell_type": "code",
   "execution_count": 14,
   "id": "61a2011d",
   "metadata": {
    "execution": {
     "iopub.execute_input": "2023-03-06T15:10:10.267814Z",
     "iopub.status.busy": "2023-03-06T15:10:10.267073Z",
     "iopub.status.idle": "2023-03-06T15:10:19.253968Z",
     "shell.execute_reply": "2023-03-06T15:10:19.253021Z"
    },
    "papermill": {
     "duration": 9.009235,
     "end_time": "2023-03-06T15:10:19.257741",
     "exception": false,
     "start_time": "2023-03-06T15:10:10.248506",
     "status": "completed"
    },
    "tags": []
   },
   "outputs": [
    {
     "name": "stdout",
     "output_type": "stream",
     "text": [
      "#########################\n",
      "### Fold 1\n",
      "#########################\n",
      "1 , 2 , 3 , 4 , 5 , 6 , 7 , 8 , 9 , 10 , 11 , 12 , 13 , 14 , 15 , 16 , 17 , 18 , \n",
      "#########################\n",
      "### Fold 2\n",
      "#########################\n",
      "1 , 2 , 3 , 4 , 5 , 6 , 7 , 8 , 9 , 10 , 11 , 12 , 13 , 14 , 15 , 16 , 17 , 18 , \n",
      "#########################\n",
      "### Fold 3\n",
      "#########################\n",
      "1 , 2 , 3 , 4 , 5 , 6 , 7 , 8 , 9 , 10 , 11 , 12 , 13 , 14 , 15 , 16 , 17 , 18 , \n",
      "#########################\n",
      "### Fold 4\n",
      "#########################\n",
      "1 , 2 , 3 , 4 , 5 , 6 , 7 , 8 , 9 , 10 , 11 , 12 , 13 , 14 , 15 , 16 , 17 , 18 , \n",
      "#########################\n",
      "### Fold 5\n",
      "#########################\n",
      "1 , 2 , 3 , 4 , 5 , 6 , 7 , 8 , 9 , 10 , 11 , 12 , 13 , 14 , 15 , 16 , 17 , 18 , \n"
     ]
    },
    {
     "name": "stderr",
     "output_type": "stream",
     "text": [
      "/opt/conda/lib/python3.7/site-packages/sklearn/linear_model/_logistic.py:818: ConvergenceWarning: lbfgs failed to converge (status=2):\n",
      "ABNORMAL_TERMINATION_IN_LNSRCH.\n",
      "\n",
      "Increase the number of iterations (max_iter) or scale the data as shown in:\n",
      "    https://scikit-learn.org/stable/modules/preprocessing.html\n",
      "Please also refer to the documentation for alternative solver options:\n",
      "    https://scikit-learn.org/stable/modules/linear_model.html#logistic-regression\n",
      "  extra_warning_msg=_LOGISTIC_SOLVER_CONVERGENCE_MSG,\n"
     ]
    }
   ],
   "source": [
    "gkf = GroupKFold(n_splits=5)\n",
    "oof = pd.DataFrame(data=np.zeros((len(ALL_USERS),18)), index=ALL_USERS)\n",
    "LR_models = {}\n",
    "\n",
    "# COMPUTE CV SCORE WITH 5 GROUP K FOLD\n",
    "for i, (train_index, test_index) in enumerate(gkf.split(X=df, groups=df.index)):\n",
    "    print('#'*25)\n",
    "    print('### Fold',i+1)\n",
    "    print('#'*25)\n",
    "    \n",
    "    # ITERATE THRU QUESTIONS 1 THRU 18\n",
    "    for t in range(1,19):\n",
    "        print(t,', ',end='')\n",
    "        \n",
    "        # USE THIS TRAIN DATA WITH THESE QUESTIONS\n",
    "        if t<=3: grp = '0-4'\n",
    "        elif t<=13: grp = '5-12'\n",
    "        elif t<=22: grp = '13-22'\n",
    "            \n",
    "        # TRAIN DATA\n",
    "        train_x = df.iloc[train_index]\n",
    "        train_x = train_x.loc[train_x.level_group == grp]\n",
    "        train_users = train_x.index.values\n",
    "        train_y = targets.loc[targets.q==t].set_index('session').loc[train_users]\n",
    "        \n",
    "        # VALID DATA\n",
    "        valid_x = df.iloc[test_index]\n",
    "        valid_x = valid_x.loc[valid_x.level_group == grp]\n",
    "        valid_users = valid_x.index.values\n",
    "        valid_y = targets.loc[targets.q==t].set_index('session').loc[valid_users]\n",
    "        \n",
    "        # TRAIN MODEL\n",
    "        clf = LogisticRegression(max_iter=500)\n",
    "        clf.fit(train_x[FEATURES].astype('float32'), train_y['correct'])\n",
    "        \n",
    "        # SAVE MODEL, PREDICT VALID OOF\n",
    "        LR_models[f'{grp}_{t}'] = clf\n",
    "        oof.loc[valid_users, t-1] = clf.predict_proba(valid_x[FEATURES].astype('float32'))[:,1]\n",
    "    print()"
   ]
  },
  {
   "cell_type": "code",
   "execution_count": 15,
   "id": "d4590987",
   "metadata": {
    "execution": {
     "iopub.execute_input": "2023-03-06T15:10:19.321047Z",
     "iopub.status.busy": "2023-03-06T15:10:19.320414Z",
     "iopub.status.idle": "2023-03-06T15:10:19.398848Z",
     "shell.execute_reply": "2023-03-06T15:10:19.397384Z"
    },
    "papermill": {
     "duration": 0.113626,
     "end_time": "2023-03-06T15:10:19.402079",
     "exception": false,
     "start_time": "2023-03-06T15:10:19.288453",
     "status": "completed"
    },
    "tags": []
   },
   "outputs": [],
   "source": [
    "# PUT TRUE LABELS INTO DATAFRAME WITH 18 COLUMNS\n",
    "true = oof.copy()\n",
    "for k in range(18):\n",
    "    # GET TRUE LABELS\n",
    "    tmp = targets.loc[targets.q == k+1].set_index('session').loc[ALL_USERS]\n",
    "    true[k] = tmp.correct.values"
   ]
  },
  {
   "cell_type": "code",
   "execution_count": 16,
   "id": "bac9d8c9",
   "metadata": {
    "execution": {
     "iopub.execute_input": "2023-03-06T15:10:19.452527Z",
     "iopub.status.busy": "2023-03-06T15:10:19.452021Z",
     "iopub.status.idle": "2023-03-06T15:10:22.633449Z",
     "shell.execute_reply": "2023-03-06T15:10:22.632291Z"
    },
    "papermill": {
     "duration": 3.211381,
     "end_time": "2023-03-06T15:10:22.636440",
     "exception": false,
     "start_time": "2023-03-06T15:10:19.425059",
     "status": "completed"
    },
    "tags": []
   },
   "outputs": [
    {
     "name": "stdout",
     "output_type": "stream",
     "text": [
      "0.40, 0.41, 0.42, 0.43, 0.44, 0.45, 0.46, 0.47, 0.48, 0.49, 0.50, 0.51, 0.52, 0.53, 0.54, 0.55, 0.56, 0.57, 0.58, 0.59, 0.60, 0.61, 0.62, 0.63, 0.64, 0.65, 0.66, 0.67, 0.68, 0.69, 0.70, 0.71, 0.72, 0.73, 0.74, 0.75, 0.76, 0.77, 0.78, 0.79, 0.80, \n",
      " Best_score: 0.6449027252404387 \n",
      " Best_threshold: 0.5800000000000002\n"
     ]
    }
   ],
   "source": [
    "# FIND BEST THRESHOLD TO CONVERT PROBS INTO 1s AND 0s\n",
    "scores = []; thresholds = []\n",
    "LR_best_score = 0; LR_best_threshold = 0\n",
    "\n",
    "for threshold in np.arange(0.4,0.81,0.01):\n",
    "    print(f'{threshold:.02f}, ',end='')\n",
    "    preds = (oof.values.reshape((-1))>threshold).astype('int')\n",
    "    m = f1_score(true.values.reshape((-1)), preds, average='macro')   \n",
    "    scores.append(m)\n",
    "    thresholds.append(threshold)\n",
    "    if m>LR_best_score:\n",
    "        LR_best_score = m\n",
    "        LR_best_threshold = threshold\n",
    "        \n",
    "print('\\n' ,'Best_score:', LR_best_score, '\\n','Best_threshold:', LR_best_threshold)"
   ]
  },
  {
   "cell_type": "code",
   "execution_count": 17,
   "id": "ce2b2ab8",
   "metadata": {
    "execution": {
     "iopub.execute_input": "2023-03-06T15:10:22.679329Z",
     "iopub.status.busy": "2023-03-06T15:10:22.678541Z",
     "iopub.status.idle": "2023-03-06T15:10:22.951706Z",
     "shell.execute_reply": "2023-03-06T15:10:22.950684Z"
    },
    "papermill": {
     "duration": 0.29798,
     "end_time": "2023-03-06T15:10:22.954647",
     "exception": false,
     "start_time": "2023-03-06T15:10:22.656667",
     "status": "completed"
    },
    "tags": []
   },
   "outputs": [
    {
     "data": {
      "image/png": "[encoded data removed]",
      "text/plain": [
       "<Figure size 2000x500 with 1 Axes>"
      ]
     },
     "metadata": {},
     "output_type": "display_data"
    }
   ],
   "source": [
    "# PLOT THRESHOLD VS. F1_SCORE\n",
    "plt.figure(figsize=(20,5))\n",
    "plt.plot(thresholds,scores,'-o',color='blue')\n",
    "plt.scatter([LR_best_threshold], [LR_best_score], color='blue', s=300, alpha=1)\n",
    "plt.xlabel('Threshold',size=14)\n",
    "plt.ylabel('Validation F1 Score',size=14)\n",
    "plt.title(f'Threshold vs. F1_Score with Best F1_Score = {LR_best_score:.3f} at Best Threshold = {LR_best_threshold:.3}',size=18)\n",
    "plt.show()"
   ]
  },
  {
   "cell_type": "code",
   "execution_count": 18,
   "id": "7ac6e02d",
   "metadata": {
    "execution": {
     "iopub.execute_input": "2023-03-06T15:10:22.998676Z",
     "iopub.status.busy": "2023-03-06T15:10:22.998275Z",
     "iopub.status.idle": "2023-03-06T15:10:23.388629Z",
     "shell.execute_reply": "2023-03-06T15:10:23.387653Z"
    },
    "papermill": {
     "duration": 0.415461,
     "end_time": "2023-03-06T15:10:23.391556",
     "exception": false,
     "start_time": "2023-03-06T15:10:22.976095",
     "status": "completed"
    },
    "tags": []
   },
   "outputs": [
    {
     "name": "stdout",
     "output_type": "stream",
     "text": [
      "When using optimal threshold...\n",
      "Q0: F1 = 0.43818641712666323\n",
      "Q1: F1 = 0.4945936668669012\n",
      "Q2: F1 = 0.48369340144040407\n",
      "Q3: F1 = 0.44713370530775287\n",
      "Q4: F1 = 0.39627740566875513\n",
      "Q5: F1 = 0.4600044919544549\n",
      "Q6: F1 = 0.48254674889816274\n",
      "Q7: F1 = 0.5123642855169477\n",
      "Q8: F1 = 0.4591144250328278\n",
      "Q9: F1 = 0.3345917456314343\n",
      "Q10: F1 = 0.49028612414474126\n",
      "Q11: F1 = 0.47801156230377184\n",
      "Q12: F1 = 0.42238745408467254\n",
      "Q13: F1 = 0.42109622844241085\n",
      "Q14: F1 = 0.3408136997033969\n",
      "Q15: F1 = 0.42975115734411545\n",
      "Q16: F1 = 0.43401002108406345\n",
      "Q17: F1 = 0.5031003295613617\n",
      "==> Overall F1 = 0.6449027252404387\n"
     ]
    }
   ],
   "source": [
    "print('When using optimal threshold...')\n",
    "for k in range(18):\n",
    "        \n",
    "    # COMPUTE F1 SCORE PER QUESTION\n",
    "    m = f1_score(true[k].values, (oof[k].values>LR_best_threshold).astype('int'), average='macro')\n",
    "    print(f'Q{k}: F1 =',m)\n",
    "    \n",
    "# COMPUTE F1 SCORE OVERALL\n",
    "m = f1_score(true.values.reshape((-1)), (oof.values.reshape((-1))>LR_best_threshold).astype('int'), average='macro')\n",
    "print('==> Overall F1 =',m)"
   ]
  },
  {
   "cell_type": "markdown",
   "id": "f5918788",
   "metadata": {
    "papermill": {
     "duration": 0.02191,
     "end_time": "2023-03-06T15:10:23.436831",
     "exception": false,
     "start_time": "2023-03-06T15:10:23.414921",
     "status": "completed"
    },
    "tags": []
   },
   "source": [
    "Logistic Regression model gets a F1_score = 0.645"
   ]
  },
  {
   "cell_type": "code",
   "execution_count": 19,
   "id": "7b0e0550",
   "metadata": {
    "execution": {
     "iopub.execute_input": "2023-03-06T15:10:23.569792Z",
     "iopub.status.busy": "2023-03-06T15:10:23.568956Z",
     "iopub.status.idle": "2023-03-06T15:15:54.290905Z",
     "shell.execute_reply": "2023-03-06T15:15:54.289525Z"
    },
    "papermill": {
     "duration": 330.748084,
     "end_time": "2023-03-06T15:15:54.294022",
     "exception": false,
     "start_time": "2023-03-06T15:10:23.545938",
     "status": "completed"
    },
    "tags": []
   },
   "outputs": [
    {
     "name": "stdout",
     "output_type": "stream",
     "text": [
      "#########################\n",
      "### Fold 1\n",
      "#########################\n",
      "1 , 2 , 3 , 4 , 5 , 6 , 7 , 8 , 9 , 10 , 11 , 12 , 13 , 14 , 15 , 16 , 17 , 18 , \n",
      "#########################\n",
      "### Fold 2\n",
      "#########################\n",
      "1 , 2 , 3 , 4 , 5 , 6 , 7 , 8 , 9 , 10 , 11 , 12 , 13 , 14 , 15 , 16 , 17 , 18 , \n",
      "#########################\n",
      "### Fold 3\n",
      "#########################\n",
      "1 , 2 , 3 , 4 , 5 , 6 , 7 , 8 , 9 , 10 , 11 , 12 , 13 , 14 , 15 , 16 , 17 , 18 , \n",
      "#########################\n",
      "### Fold 4\n",
      "#########################\n",
      "1 , 2 , 3 , 4 , 5 , 6 , 7 , 8 , 9 , 10 , 11 , 12 , 13 , 14 , 15 , 16 , 17 , 18 , \n",
      "#########################\n",
      "### Fold 5\n",
      "#########################\n",
      "1 , 2 , 3 , 4 , 5 , 6 , 7 , 8 , 9 , 10 , 11 , 12 , 13 , 14 , 15 , 16 , 17 , 18 , \n"
     ]
    }
   ],
   "source": [
    "oof = pd.DataFrame(data=np.zeros((len(ALL_USERS),18)), index=ALL_USERS)\n",
    "RFC_models = {}\n",
    "\n",
    "# COMPUTE CV SCORE WITH 5 GROUP K FOLD\n",
    "for i, (train_index, test_index) in enumerate(gkf.split(X=df, groups=df.index)):\n",
    "    print('#'*25)\n",
    "    print('### Fold',i+1)\n",
    "    print('#'*25)\n",
    "    \n",
    "    # ITERATE THRU QUESTIONS 1 THRU 18\n",
    "    for t in range(1,19):\n",
    "        print(t,', ',end='')\n",
    "        \n",
    "        # USE THIS TRAIN DATA WITH THESE QUESTIONS\n",
    "        if t<=3: grp = '0-4'\n",
    "        elif t<=13: grp = '5-12'\n",
    "        elif t<=22: grp = '13-22'\n",
    "            \n",
    "        # TRAIN DATA\n",
    "        train_x = df.iloc[train_index]\n",
    "        train_x = train_x.loc[train_x.level_group == grp]\n",
    "        train_users = train_x.index.values\n",
    "        train_y = targets.loc[targets.q==t].set_index('session').loc[train_users]\n",
    "        \n",
    "        # VALID DATA\n",
    "        valid_x = df.iloc[test_index]\n",
    "        valid_x = valid_x.loc[valid_x.level_group == grp]\n",
    "        valid_users = valid_x.index.values\n",
    "        valid_y = targets.loc[targets.q==t].set_index('session').loc[valid_users]\n",
    "        \n",
    "        # TRAIN MODEL\n",
    "        clf = RandomForestClassifier() \n",
    "        clf.fit(train_x[FEATURES].astype('float32'), train_y['correct'])\n",
    "        \n",
    "        # SAVE MODEL, PREDICT VALID OOF\n",
    "        RFC_models[f'{grp}_{t}'] = clf\n",
    "        oof.loc[valid_users, t-1] = clf.predict_proba(valid_x[FEATURES].astype('float32'))[:,1]\n",
    "    print()"
   ]
  },
  {
   "cell_type": "code",
   "execution_count": 20,
   "id": "1efc2f68",
   "metadata": {
    "execution": {
     "iopub.execute_input": "2023-03-06T15:15:54.352288Z",
     "iopub.status.busy": "2023-03-06T15:15:54.351266Z",
     "iopub.status.idle": "2023-03-06T15:15:57.691957Z",
     "shell.execute_reply": "2023-03-06T15:15:57.690674Z"
    },
    "papermill": {
     "duration": 3.371594,
     "end_time": "2023-03-06T15:15:57.694858",
     "exception": false,
     "start_time": "2023-03-06T15:15:54.323264",
     "status": "completed"
    },
    "tags": []
   },
   "outputs": [
    {
     "name": "stdout",
     "output_type": "stream",
     "text": [
      "0.40, 0.41, 0.42, 0.43, 0.44, 0.45, 0.46, 0.47, 0.48, 0.49, 0.50, 0.51, 0.52, 0.53, 0.54, 0.55, 0.56, 0.57, 0.58, 0.59, 0.60, 0.61, 0.62, 0.63, 0.64, 0.65, 0.66, 0.67, 0.68, 0.69, 0.70, 0.71, 0.72, 0.73, 0.74, 0.75, 0.76, 0.77, 0.78, 0.79, 0.80, \n",
      " Best_score: 0.6645825472528448 \n",
      " Best_threshold: 0.6000000000000002\n"
     ]
    }
   ],
   "source": [
    "# FIND BEST THRESHOLD TO CONVERT PROBS INTO 1s AND 0s\n",
    "scores = []; thresholds = []\n",
    "RFC_best_score = 0; RFC_best_threshold = 0\n",
    "\n",
    "for threshold in np.arange(0.4,0.81,0.01):\n",
    "    print(f'{threshold:.02f}, ',end='')\n",
    "    preds = (oof.values.reshape((-1))>threshold).astype('int')\n",
    "    m = f1_score(true.values.reshape((-1)), preds, average='macro')   \n",
    "    scores.append(m)\n",
    "    thresholds.append(threshold)\n",
    "    if m>RFC_best_score:\n",
    "        RFC_best_score = m\n",
    "        RFC_best_threshold = threshold\n",
    "        \n",
    "print('\\n' ,'Best_score:', RFC_best_score, '\\n','Best_threshold:', RFC_best_threshold)"
   ]
  },
  {
   "cell_type": "code",
   "execution_count": 21,
   "id": "dbcc30c4",
   "metadata": {
    "execution": {
     "iopub.execute_input": "2023-03-06T15:15:57.756876Z",
     "iopub.status.busy": "2023-03-06T15:15:57.755836Z",
     "iopub.status.idle": "2023-03-06T15:15:57.991591Z",
     "shell.execute_reply": "2023-03-06T15:15:57.990685Z"
    },
    "papermill": {
     "duration": 0.269546,
     "end_time": "2023-03-06T15:15:57.993963",
     "exception": false,
     "start_time": "2023-03-06T15:15:57.724417",
     "status": "completed"
    },
    "tags": []
   },
   "outputs": [
    {
     "data": {
      "image/png": "[encoded data removed]",
      "text/plain": [
       "<Figure size 2000x500 with 1 Axes>"
      ]
     },
     "metadata": {},
     "output_type": "display_data"
    }
   ],
   "source": [
    "# PLOT THRESHOLD VS. F1_SCORE\n",
    "plt.figure(figsize=(20,5))\n",
    "plt.plot(thresholds,scores,'-o',color='blue')\n",
    "plt.scatter([RFC_best_threshold], [RFC_best_score], color='blue', s=300, alpha=1)\n",
    "plt.xlabel('Threshold',size=14)\n",
    "plt.ylabel('Validation F1 Score',size=14)\n",
    "plt.title(f'Threshold vs. F1_Score with Best F1_Score = {RFC_best_score:.3f} at Best Threshold = {RFC_best_threshold:.3}',size=18)\n",
    "plt.show()"
   ]
  },
  {
   "cell_type": "code",
   "execution_count": 22,
   "id": "c81be508",
   "metadata": {
    "execution": {
     "iopub.execute_input": "2023-03-06T15:15:58.056865Z",
     "iopub.status.busy": "2023-03-06T15:15:58.056175Z",
     "iopub.status.idle": "2023-03-06T15:15:58.236156Z",
     "shell.execute_reply": "2023-03-06T15:15:58.234837Z"
    },
    "papermill": {
     "duration": 0.214649,
     "end_time": "2023-03-06T15:15:58.238902",
     "exception": false,
     "start_time": "2023-03-06T15:15:58.024253",
     "status": "completed"
    },
    "tags": []
   },
   "outputs": [
    {
     "name": "stdout",
     "output_type": "stream",
     "text": [
      "When using optimal threshold...\n",
      "Q0: F1 = 0.5501100254818865\n",
      "Q1: F1 = 0.4945936668669012\n",
      "Q2: F1 = 0.48699375911933074\n",
      "Q3: F1 = 0.5763231146718474\n",
      "Q4: F1 = 0.5563090680784744\n",
      "Q5: F1 = 0.5775235274298639\n",
      "Q6: F1 = 0.5768491243418015\n",
      "Q7: F1 = 0.5408142913189777\n",
      "Q8: F1 = 0.5878217527653418\n",
      "Q9: F1 = 0.5160803436556187\n",
      "Q10: F1 = 0.5704508630610613\n",
      "Q11: F1 = 0.4879326055810595\n",
      "Q12: F1 = 0.4358107321440097\n",
      "Q13: F1 = 0.5871259486113963\n",
      "Q14: F1 = 0.49559201597469715\n",
      "Q15: F1 = 0.4814782409002659\n",
      "Q16: F1 = 0.5308051646386713\n",
      "Q17: F1 = 0.49060488980842587\n",
      "==> Overall F1 = 0.6645825472528448\n"
     ]
    }
   ],
   "source": [
    "print('When using optimal threshold...')\n",
    "for k in range(18):\n",
    "        \n",
    "    # COMPUTE F1 SCORE PER QUESTION\n",
    "    m = f1_score(true[k].values, (oof[k].values>RFC_best_threshold).astype('int'), average='macro')\n",
    "    print(f'Q{k}: F1 =',m)\n",
    "    \n",
    "# COMPUTE F1 SCORE OVERALL\n",
    "m = f1_score(true.values.reshape((-1)), (oof.values.reshape((-1))>RFC_best_threshold).astype('int'), average='macro')\n",
    "print('==> Overall F1 =',m)"
   ]
  },
  {
   "cell_type": "markdown",
   "id": "e70a1c2e",
   "metadata": {
    "papermill": {
     "duration": 0.029787,
     "end_time": "2023-03-06T15:15:58.298748",
     "exception": false,
     "start_time": "2023-03-06T15:15:58.268961",
     "status": "completed"
    },
    "tags": []
   },
   "source": [
    "Random forest model gets a F1_score = 0.663"
   ]
  }
 ],
 "metadata": {
  "kernelspec": {
   "display_name": "Python 3 (ipykernel)",
   "language": "python",
   "name": "python3"
  },
  "language_info": {
   "codemirror_mode": {
    "name": "ipython",
    "version": 3
   },
   "file_extension": ".py",
   "mimetype": "text/x-python",
   "name": "python",
   "nbconvert_exporter": "python",
   "pygments_lexer": "ipython3",
   "version": "3.11.10"
  },
  "papermill": {
   "default_parameters": {},
   "duration": 2630.677454,
   "end_time": "2023-03-06T15:51:56.176579",
   "environment_variables": {},
   "exception": null,
   "input_path": "__notebook__.ipynb",
   "output_path": "__notebook__.ipynb",
   "parameters": {},
   "start_time": "2023-03-06T15:08:05.499125",
   "version": "2.3.4"
  }
 },
 "nbformat": 4,
 "nbformat_minor": 5
}
